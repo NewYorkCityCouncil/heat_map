{
 "cells": [
  {
   "attachments": {},
   "cell_type": "markdown",
   "metadata": {},
   "source": [
    "# USGS API Testing"
   ]
  },
  {
   "cell_type": "code",
   "execution_count": 1,
   "metadata": {},
   "outputs": [],
   "source": [
    "import requests\n",
    "import os\n",
    "import pandas as pd\n",
    "import copy"
   ]
  },
  {
   "attachments": {},
   "cell_type": "markdown",
   "metadata": {},
   "source": [
    "## Get API key using credentials"
   ]
  },
  {
   "cell_type": "code",
   "execution_count": null,
   "metadata": {},
   "outputs": [],
   "source": [
    "os.environ['API_USER'] = 'xxx'\n",
    "os.environ['API_PASSWORD'] = 'xxx'\n",
    "\n",
    "username = os.environ.get('API_USER')\n",
    "password = os.environ.get('API_PASSWORD')\n",
    "\n",
    "login_response = requests.post('https://m2m.cr.usgs.gov/api/api/json/stable/login', json = {\"username\": username, \"password\": password})\n",
    "auth_code = login_response.json()['data']"
   ]
  },
  {
   "attachments": {},
   "cell_type": "markdown",
   "metadata": {},
   "source": [
    "## Search for scenes"
   ]
  },
  {
   "cell_type": "code",
   "execution_count": null,
   "metadata": {},
   "outputs": [],
   "source": [
    "\n",
    "payload = { \n",
    "    \"datasetName\": \"landsat_ard_tile_c2\" ,\n",
    "    \"sceneFilter\": {\n",
    "        \"acquisitionFilter\": {\n",
    "            \"start\": \"2018-01-01\",\n",
    "            \"end\": \"2023-01-01\"\n",
    "        },\n",
    "        \"cloudCoverFilter\": {\n",
    "            \"max\": 3,\n",
    "            \"min\": 0,\n",
    "            \"includeUnknown\": False\n",
    "        },\n",
    "        \"spatialFilter\": {\n",
    "           \"filterType\": \"mbr\",\n",
    "           \"lowerLeft\": {\n",
    "                   \"latitude\": 39.92817,\n",
    "                   \"longitude\": -74.66431\n",
    "           },\n",
    "           \"upperRight\": {\n",
    "                   \"latitude\": 41.54334,\n",
    "                   \"longitude\": -72.50449\n",
    "           }\n",
    "        }\n",
    "    }\n",
    "}\n",
    "\n",
    "search_response = requests.post('https://m2m.cr.usgs.gov/api/api/json/stable/scene-search', json = payload, headers={\"X-Auth-Token\": auth_code})\n",
    "search_response_json_data = search_response.json()['data']"
   ]
  },
  {
   "attachments": {},
   "cell_type": "markdown",
   "metadata": {},
   "source": [
    "### Clean response and convert to DF"
   ]
  },
  {
   "cell_type": "code",
   "execution_count": 4,
   "metadata": {},
   "outputs": [],
   "source": [
    "search_response_results = search_response_json_data['results']\n",
    "\n",
    "# make metadata string, flatten browse field\n",
    "for response in search_response_results:\n",
    "\n",
    "    response['metadata'] = str(response['metadata'])\n",
    "    \n",
    "    for idx, b in enumerate(response['browse']):\n",
    "        response[f'browse_{idx}'] = b\n",
    "    del response['browse']\n",
    "\n",
    "\n",
    "search_response_results_df = pd.DataFrame.from_records(\n",
    "    pd.json_normalize(search_response_results, sep=\".\").to_dict(orient='records')\n",
    "    ).sort_values(by=['cloudCover'])\n",
    "search_response_results_df.to_csv(\"../data/input/api/scene-search-responses.csv\", index = False)"
   ]
  },
  {
   "attachments": {},
   "cell_type": "markdown",
   "metadata": {},
   "source": [
    "### Collect IDs for download"
   ]
  },
  {
   "cell_type": "code",
   "execution_count": 5,
   "metadata": {},
   "outputs": [],
   "source": [
    "entityIds = []\n",
    "for response in search_response_results:\n",
    "    entityIds.append(response['entityId'])\n",
    "entityIds = list(set(entityIds))"
   ]
  },
  {
   "attachments": {},
   "cell_type": "markdown",
   "metadata": {},
   "source": [
    "## Get download options from API "
   ]
  },
  {
   "cell_type": "code",
   "execution_count": null,
   "metadata": {},
   "outputs": [],
   "source": [
    "payload = {'datasetName' : 'landsat_ard_tile_c2', 'entityIds' : entityIds}\n",
    "                            \n",
    "options_response = requests.post('https://m2m.cr.usgs.gov/api/api/json/stable/download-options', json = payload, headers={\"X-Auth-Token\": auth_code})\n",
    "options_reponse_data = options_response.json()['data']\n"
   ]
  },
  {
   "attachments": {},
   "cell_type": "markdown",
   "metadata": {},
   "source": [
    "### Clean/flatten response and convert to DF"
   ]
  },
  {
   "cell_type": "code",
   "execution_count": 7,
   "metadata": {},
   "outputs": [],
   "source": [
    "flatter_options_response_data = []\n",
    "for record in options_reponse_data:\n",
    "    for secondary in record['secondaryDownloads']:\n",
    "\n",
    "        copy_record = copy.deepcopy(record)\n",
    "        copy_record['secondaryDownloads'] = secondary\n",
    "        \n",
    "        flatter_options_response_data.append(copy_record)\n",
    "\n",
    "options_response_df = pd.DataFrame.from_records(\n",
    "    pd.json_normalize(flatter_options_response_data, sep=\".\").to_dict(orient='records')\n",
    "    )\n",
    "options_response_df.to_csv(\"../data/input/api/download-options-responses.csv\", index = False)"
   ]
  },
  {
   "cell_type": "code",
   "execution_count": 23,
   "metadata": {},
   "outputs": [
    {
     "data": {
      "text/plain": [
       "array(['C2 ARD Tile Quality Assessment Bundle Download',\n",
       "       'C2 ARD Tile Metadata Bundle Download',\n",
       "       'C2 ARD Tile Surface Reflectance Bundle Download',\n",
       "       'C2 ARD Tile Surface Temperature Bundle Download',\n",
       "       'C2 ARD Tile Top of Atmosphere Reflectance Bundle Download',\n",
       "       'C2 ARD Tile Brightness Temperature Bundle Download'], dtype=object)"
      ]
     },
     "execution_count": 23,
     "metadata": {},
     "output_type": "execute_result"
    }
   ],
   "source": [
    "# what are the bundle names?\n",
    "options_response_df['productName'].unique()"
   ]
  },
  {
   "attachments": {},
   "cell_type": "markdown",
   "metadata": {},
   "source": [
    "### Filter download options for 'available'"
   ]
  },
  {
   "cell_type": "code",
   "execution_count": 8,
   "metadata": {},
   "outputs": [],
   "source": [
    "avail_options_response_df = options_response_df[options_response_df['available']]"
   ]
  },
  {
   "attachments": {},
   "cell_type": "markdown",
   "metadata": {},
   "source": [
    "## Use API to request download information"
   ]
  },
  {
   "cell_type": "code",
   "execution_count": 9,
   "metadata": {},
   "outputs": [],
   "source": [
    "# filter for available downloads\n",
    "avail_options_response_df = avail_options_response_df.rename(columns={\"id\": \"productId\"})\n",
    "\n",
    "codes_df = avail_options_response_df[['entityId', 'productId']].drop_duplicates()\n",
    "codes_dict = codes_df.to_dict('records')\n",
    "\n",
    "label = \"download-test\"\n",
    "payload = {'downloads' : codes_dict, 'label' : label}\n",
    "\n",
    "download_response = requests.post('https://m2m.cr.usgs.gov/api/api/json/stable/download-request', json = payload, headers={\"X-Auth-Token\": auth_code})\n",
    "download_response_data = download_response.json()['data']\n"
   ]
  },
  {
   "attachments": {},
   "cell_type": "markdown",
   "metadata": {},
   "source": [
    "### Count responses and check for failures or pending downloads"
   ]
  },
  {
   "cell_type": "code",
   "execution_count": 10,
   "metadata": {},
   "outputs": [
    {
     "name": "stdout",
     "output_type": "stream",
     "text": [
      "{'availableDownloads': 600, 'duplicateProducts': 0, 'preparingDownloads': 0, 'failed': 0, 'newRecords': 600}\n"
     ]
    }
   ],
   "source": [
    "count_responses = {k: len(download_response_data[k]) for k in ['availableDownloads', 'duplicateProducts', 'preparingDownloads', 'failed', 'newRecords']}\n",
    "print(count_responses)"
   ]
  },
  {
   "cell_type": "code",
   "execution_count": 11,
   "metadata": {},
   "outputs": [
    {
     "data": {
      "text/plain": [
       "0"
      ]
     },
     "execution_count": 11,
     "metadata": {},
     "output_type": "execute_result"
    }
   ],
   "source": [
    "download_response_data['numInvalidScenes']"
   ]
  },
  {
   "attachments": {},
   "cell_type": "markdown",
   "metadata": {},
   "source": [
    "## Save download information DF"
   ]
  },
  {
   "cell_type": "code",
   "execution_count": 21,
   "metadata": {},
   "outputs": [],
   "source": [
    "download_response_df = pd.DataFrame.from_dict(download_response_data['availableDownloads'])\n",
    "\n",
    "# pull out entityId from URL\n",
    "download_response_df[['downloadEntity', 'entityType']] = download_response_df['url'].str.extract(r'.*landsat_product_id=(.*)_(.*)&.*')\n",
    "\n",
    "# pivot df\n",
    "download_response_df = download_response_df.pivot(index = ['downloadEntity'], columns=['entityType'], values=['url', 'downloadId'])\n",
    "download_response_df.columns = [\"_\".join(tup) for tup in download_response_df.columns.to_flat_index()]\n",
    "\n",
    "download_response_df.to_csv('../data/input/api/downloads-request-reponses.csv', index = False)"
   ]
  }
 ],
 "metadata": {
  "kernelspec": {
   "display_name": "Python 3 (ipykernel)",
   "language": "python",
   "name": "python3"
  },
  "language_info": {
   "codemirror_mode": {
    "name": "ipython",
    "version": 3
   },
   "file_extension": ".py",
   "mimetype": "text/x-python",
   "name": "python",
   "nbconvert_exporter": "python",
   "pygments_lexer": "ipython3",
   "version": "3.10.4"
  },
  "orig_nbformat": 4,
  "vscode": {
   "interpreter": {
    "hash": "949777d72b0d2535278d3dc13498b2535136f6dfe0678499012e853ee9abcab1"
   }
  }
 },
 "nbformat": 4,
 "nbformat_minor": 2
}
